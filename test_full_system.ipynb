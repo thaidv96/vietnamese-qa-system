{
 "cells": [
  {
   "cell_type": "code",
   "execution_count": 119,
   "metadata": {},
   "outputs": [
    {
     "name": "stdout",
     "output_type": "stream",
     "text": [
      "The autoreload extension is already loaded. To reload it, use:\n",
      "  %reload_ext autoreload\n"
     ]
    }
   ],
   "source": [
    "%load_ext autoreload\n",
    "%autoreload 2"
   ]
  },
  {
   "cell_type": "code",
   "execution_count": 2,
   "metadata": {},
   "outputs": [
    {
     "name": "stderr",
     "output_type": "stream",
     "text": [
      "Special tokens have been added in the vocabulary, make sure the associated word embeddings are fine-tuned or trained.\n"
     ]
    }
   ],
   "source": [
    "from predictor.retriever import HybridRetriever\n",
    "from predictor import ReaderPredictor, QASystem"
   ]
  },
  {
   "cell_type": "code",
   "execution_count": 3,
   "metadata": {},
   "outputs": [
    {
     "name": "stderr",
     "output_type": "stream",
     "text": [
      "Special tokens have been added in the vocabulary, make sure the associated word embeddings are fine-tuned or trained.\n"
     ]
    }
   ],
   "source": [
    "reader = ReaderPredictor(\"checkpoint/phobert_extraction_model/epoch_4\")\n",
    "retriever = HybridRetriever()\n",
    "qa_system = QASystem(retriever, reader)"
   ]
  },
  {
   "cell_type": "code",
   "execution_count": 246,
   "metadata": {},
   "outputs": [
    {
     "data": {
      "text/plain": [
       "'<pad> <pad>'"
      ]
     },
     "execution_count": 246,
     "metadata": {},
     "output_type": "execute_result"
    }
   ],
   "source": [
    "pred_answer"
   ]
  },
  {
   "cell_type": "code",
   "execution_count": 360,
   "metadata": {},
   "outputs": [
    {
     "name": "stdout",
     "output_type": "stream",
     "text": [
      "SPOS PRED 39\n"
     ]
    },
    {
     "data": {
      "text/plain": [
       "'là những vùng phát địa quan trọng của nền văn minh Trung Hoa'"
      ]
     },
     "execution_count": 360,
     "metadata": {},
     "output_type": "execute_result"
    }
   ],
   "source": [
    "# question = 'Vùng thượng du Trường Giang , Quan Trung có vai trò địa thế như thế nào đối với Trung Hoa ?'\n",
    "question = 'Vùng thượng du Trường Giang, Quan Trung có vai trò địa thế như thế nào đối với Trung Hoa?'\n",
    "qa_system.predict(question)\n"
   ]
  },
  {
   "cell_type": "code",
   "execution_count": 352,
   "metadata": {},
   "outputs": [
    {
     "data": {
      "text/plain": [
       "'Khu vực Thiểm Bắc thuộc vùng trung thượng du Hoàng Hà, khu vực phía nam Tần Lĩnh thuộc vùng thượng du Trường Giang, Quan Trung là những vùng phát địa quan trọng của nền văn minh Trung Hoa. Theo phân kỳ khảo cổ, khu vực Quan Trung từ xưa đã có các hoạt động của người Lam Điền (蓝田人, Homo erectus lantianensis). Trong các di chỉ thời đại đồ đá mới, có niên đại sớm nhất là thuộc về văn hóa Lão Quan Đài (khoảng 6000 TCN-5000 TCN), kế tiếp là thuộc văn hóa Ngưỡng Thiều (khoảng 5000 TCN-3000 TCN) nổi tiếng, sau đó là văn hóa Long Sơn (khoảng 3000 TCN-2000 TCN).'"
      ]
     },
     "execution_count": 352,
     "metadata": {},
     "output_type": "execute_result"
    }
   ],
   "source": [
    "context"
   ]
  },
  {
   "cell_type": "code",
   "execution_count": 355,
   "metadata": {},
   "outputs": [
    {
     "name": "stdout",
     "output_type": "stream",
     "text": [
      "SPOS PRED 39\n"
     ]
    },
    {
     "data": {
      "text/plain": [
       "[('là những vùng phát địa quan trọng của nền văn minh Trung Hoa',\n",
       "  39,\n",
       "  48,\n",
       "  0.60218287)]"
      ]
     },
     "execution_count": 355,
     "metadata": {},
     "output_type": "execute_result"
    }
   ],
   "source": [
    "qa_system.reader.predict('Vùng thượng du Trường Giang, Quan Trung có vai trò địa thế như thế nào đối với Trung Hoa?', 'Khu vực Thiểm Bắc thuộc vùng trung thượng du Hoàng Hà, khu vực phía nam Tần Lĩnh thuộc vùng thượng du Trường Giang, Quan Trung là những vùng phát địa quan trọng của nền văn minh Trung Hoa. Theo phân kỳ khảo cổ, khu vực Quan Trung từ xưa đã có các hoạt động của người Lam Điền (蓝田人, Homo erectus lantianensis). Trong các di chỉ thời đại đồ đá mới, có niên đại sớm nhất là thuộc về văn hóa Lão Quan Đài (khoảng 6000 TCN-5000 TCN), kế tiếp là thuộc văn hóa Ngưỡng Thiều (khoảng 5000 TCN-3000 TCN) nổi tiếng, sau đó là văn hóa Long Sơn (khoảng 3000 TCN-2000 TCN).')"
   ]
  },
  {
   "cell_type": "code",
   "execution_count": 353,
   "metadata": {},
   "outputs": [
    {
     "data": {
      "text/plain": [
       "{'text': 'Khu vực Thiểm Bắc thuộc vùng trung thượng du Hoàng Hà, khu vực phía nam Tần Lĩnh thuộc vùng thượng du Trường Giang, Quan Trung là những vùng phát địa quan trọng của nền văn minh Trung Hoa. Theo phân kỳ khảo cổ, khu vực Quan Trung từ xưa đã có các hoạt động của người Lam Điền (蓝田人, Homo erectus lantianensis). Trong các di chỉ thời đại đồ đá mới, có niên đại sớm nhất là thuộc về văn hóa Lão Quan Đài (khoảng 6000 TCN-5000 TCN), kế tiếp là thuộc văn hóa Ngưỡng Thiều (khoảng 5000 TCN-3000 TCN) nổi tiếng, sau đó là văn hóa Long Sơn (khoảng 3000 TCN-2000 TCN).',\n",
       " 'id': 'uit_01__04277_1',\n",
       " 'score': 0.49107344927381325}"
      ]
     },
     "execution_count": 353,
     "metadata": {},
     "output_type": "execute_result"
    }
   ],
   "source": [
    "qa_system.retriever.query(question,top_k=1)[0]"
   ]
  },
  {
   "cell_type": "code",
   "execution_count": 309,
   "metadata": {},
   "outputs": [
    {
     "name": "stdout",
     "output_type": "stream",
     "text": [
      "SPOS PRED 152\n"
     ]
    },
    {
     "data": {
      "text/plain": [
       "[('<pad>', 152, 152, 0.019039549)]"
      ]
     },
     "execution_count": 309,
     "metadata": {},
     "output_type": "execute_result"
    }
   ],
   "source": [
    "qa_system.reader.predict(question,'Edward có một hoàng cung lưu động, di chuyển khắp đất nước theo chân Nhà vua. Khi ở Cung điện Westminster, hoàng cung có hai đại sảnh, bảy phòng ngủ và ba nhà nguyện, cùng với những phòng nhỏ nhỏ, nhưng, do cuộc xung đột với Scotland, hoàng cung lại dời về Yorkshire và Northumbria trong phần lớn thời gian diễn ra cuộc xung đột này. Chính giữa hoàng cung là tư thất của Edward, lần lượt được chia thành \"đại sảnh\" và \"buồng ngủ\"; quy mô tư thất của Edward thay đổi theo từng thời kỳ, vào năm 1317 là khoảng 500 strong, bao gồm các hiệp sĩ, cận vệ, đầu bếp và phu vận chuyển. Xung quanh tư thất của vua là đông các triều thần, và dường như cũng cuốn hút thành phần gái bán dâm và phạm nhân.')"
   ]
  },
  {
   "cell_type": "code",
   "execution_count": 283,
   "metadata": {},
   "outputs": [
    {
     "name": "stdout",
     "output_type": "stream",
     "text": [
      "1\n"
     ]
    }
   ],
   "source": [
    "print(1)"
   ]
  },
  {
   "cell_type": "code",
   "execution_count": 284,
   "metadata": {},
   "outputs": [
    {
     "name": "stdout",
     "output_type": "stream",
     "text": [
      "EPOS SCORE [0.002718558, 0.12051902, 0.00013171762, 0.00019903274, 0.00014626244]\n",
      "pred score 0.30689496\n"
     ]
    },
    {
     "data": {
      "text/plain": [
       "[('thời kỳ ấn tượng và Max Ernst của thời kỳ siêu thực . Các nhà điêu khắc Đức như Otto Schmidt - Hofer , Franz Iffland , và Julius Schmidt - Felling có đóng góp quan trọng cho lịch sử mỹ thuật Đức vào cuối thế kỷ XIX và đầu thế kỷ XX',\n",
       "  107,\n",
       "  157,\n",
       "  0.7760706)]"
      ]
     },
     "execution_count": 284,
     "metadata": {},
     "output_type": "execute_result"
    }
   ],
   "source": [
    "qa_system.reader.predict(question, \"Các họa sĩ Đức có ảnh hưởng đến mỹ thuật phương Tây , Albrecht Dürer , Hans Holbein Trẻ , Matthias Grünewald và Lucas Cranach Già là các họa sĩ quan trọng của Đức trong Thời kỳ Phục hưng , Peter Paul Rubens và Johann Baptist Zimmermann của thời kỳ Baroque , Caspar David Friedrich và Carl Spitzweg của thời kỳ lãng mạn , Max Liebermann của thời kỳ ấn tượng và Max Ernst của thời kỳ siêu thực . Các nhà điêu khắc Đức như Otto Schmidt - Hofer , Franz Iffland , và Julius Schmidt - Felling có đóng góp quan trọng cho lịch sử mỹ thuật Đức vào cuối thế kỷ XIX và đầu thế kỷ XX .\")"
   ]
  },
  {
   "cell_type": "code",
   "execution_count": 271,
   "metadata": {},
   "outputs": [
    {
     "data": {
      "text/plain": [
       "[{'text': \"Ngành công nghiệp tài chính Mỹ chỉ chiếm 10% trong tổng lợi nhuận của các các ngành phi nông nghiệp năm 1947('non-farm business' được định nghĩa là tất cả những ngành công nghiệp, xây dựng, dịch vụ... loại trừ các hoạt động của chính phủ, hộ kinh doanh gia đình, tổ chức phi chính phủ và nông nghiệp), nhưng đã tăng lên 50% trong năm 2010. Trong cùng giai đoạn, thu nhập từ ngành công nghiệp tài chính tính trên GDP đã tăng lên từ 2,5% lên 7,5%, và tỷ trọng thu nhập từ công nghiệp tài chính trong tổng thu nhập của các công ty đã tăng từ 10% lên 20%. Thu nhập trung bình theo giờ của lao động ngành tài chính rất cao tương quan với các ngành khác giống như tỷ lệ 1% những người thu nhập cao nhất so với tổng thu nhập người Mỹ kể từ năm 1930. Mức lương trung bình của ngành tài chính New York tăng từ 80.000 đô la năm 1981 lên 360.000 đô la năm 2011, trong khi mức lương bình quân của người lao động New york tăng từ 40.000 đô la lên 70.000 đô la. Trong năm 1988, có tới 12.500 ngân hàng tại Mỹ có ít hơn 300 triệu đô la tiền gửi, và khoảng 900 ngân hàng có so số tiền gửi nhiều hơn. Nhưng đến 2012, chỉ còn 4.200 ngân hàng với ít hơn 300 triệu đô la tiền tiền gửi tại Mỹ, và hơn 1.800 ngân hàng nhiều hơn số đó.\",\n",
       "  'id': 'uit_01__06594_64',\n",
       "  'score': 0.7324016444350443}]"
      ]
     },
     "execution_count": 271,
     "metadata": {},
     "output_type": "execute_result"
    }
   ],
   "source": [
    "[p for p in candidate_passages if 'Ngành công nghiệp tài chính Mỹ' in p['text']]"
   ]
  },
  {
   "cell_type": "code",
   "execution_count": 214,
   "metadata": {},
   "outputs": [
    {
     "data": {
      "text/plain": [
       "[('<s> Tại nước Đức , rừng tập trung ở các nơi nào ? </s> Địa hình thay đổi đặc biệt là theo hướng từ Bắc vào Nam vì địa thế có chiều hướng cao hơn và dốc hơn về phía nam . Phần miền Bắc của nước Đức , vùng đồng bằng Bắc Đức , là một vùng đồng bằng phần lớn được tạo thành từ thời kỳ Băng hà , kế tiếp về phía nam là vùng đồi núi có rừng ở trung tâm và các phần đất miền Nam của Đức . Đặc biệt là tại bang Bayern nhưng cũng ở tại bang Baden - Württemberg địa hình này chuyển tiếp đến vùng Alpenvorland Bắc tương đối cao , vùng mà sau đấy lại chuyển tiếp đến vùng núi cao của dãy núi Alpen . </s> <pad>',\n",
       "  0,\n",
       "  129,\n",
       "  0.015487978)]"
      ]
     },
     "execution_count": 214,
     "metadata": {},
     "output_type": "execute_result"
    }
   ],
   "source": [
    "qa_system.reader.predict(question, 'Địa hình thay đổi đặc biệt là theo hướng từ Bắc vào Nam vì địa thế có chiều hướng cao hơn và dốc hơn về phía nam. Phần miền Bắc của nước Đức, vùng đồng bằng Bắc Đức, là một vùng đồng bằng phần lớn được tạo thành từ thời kỳ Băng hà, kế tiếp về phía nam là vùng đồi núi có rừng ở trung tâm và các phần đất miền Nam của Đức. Đặc biệt là tại bang Bayern nhưng cũng ở tại bang Baden-Württemberg địa hình này chuyển tiếp đến vùng Alpenvorland Bắc tương đối cao, vùng mà sau đấy lại chuyển tiếp đến vùng núi cao của dãy núi Alpen.')\n"
   ]
  },
  {
   "cell_type": "code",
   "execution_count": 213,
   "metadata": {},
   "outputs": [],
   "source": [
    "\n",
    "def em_score(gt_answer, pred_answer):\n",
    "    tokenized_gt_answer = ViTokenizer.tokenize(gt_answer).replace(\"_\", ' ')\n",
    "    return tokenized_gt_answer == pred_answer\n",
    "\n"
   ]
  },
  {
   "cell_type": "code",
   "execution_count": 128,
   "metadata": {},
   "outputs": [
    {
     "data": {
      "text/plain": [
       "False"
      ]
     },
     "execution_count": 128,
     "metadata": {},
     "output_type": "execute_result"
    }
   ],
   "source": [
    "em_score('Cộng hòa Liên bang Đức và Cộng hòa Dân chủ Đức', pred_answer)"
   ]
  },
  {
   "cell_type": "code",
   "execution_count": 315,
   "metadata": {},
   "outputs": [],
   "source": [
    "gt_answer = 'vận_chuyển , cung_cấp các loại khí hữu_dụng , đốt cháy các thiên_thạch nhỏ trước khi chúng va_chạm với mặt_đất và điều_hoà_nhiệt_độ'\n",
    "tokenized_gt_answer = ViTokenizer.tokenize(gt_answer).replace(\"_\", ' ')\n"
   ]
  },
  {
   "cell_type": "code",
   "execution_count": 317,
   "metadata": {},
   "outputs": [
    {
     "data": {
      "text/plain": [
       "True"
      ]
     },
     "execution_count": 317,
     "metadata": {},
     "output_type": "execute_result"
    }
   ],
   "source": [
    "tokenized_gt_answer == 'vận chuyển , cung cấp các loại khí hữu dụng , đốt cháy các thiên thạch nhỏ trước khi chúng va chạm với mặt đất và điều hoà nhiệt độ'"
   ]
  },
  {
   "cell_type": "code",
   "execution_count": 133,
   "metadata": {},
   "outputs": [
    {
     "data": {
      "text/plain": [
       "'Cộng hoà Liên bang Đức và Cộng hoà Dân chủ Đức'"
      ]
     },
     "execution_count": 133,
     "metadata": {},
     "output_type": "execute_result"
    }
   ],
   "source": [
    "pred_answer"
   ]
  },
  {
   "cell_type": "code",
   "execution_count": 134,
   "metadata": {},
   "outputs": [
    {
     "data": {
      "text/plain": [
       "'Cộng hòa Liên bang Đức và Cộng hòa Dân chủ Đức'"
      ]
     },
     "execution_count": 134,
     "metadata": {},
     "output_type": "execute_result"
    }
   ],
   "source": [
    "tokenized_gt_answer"
   ]
  },
  {
   "cell_type": "code",
   "execution_count": 124,
   "metadata": {},
   "outputs": [],
   "source": [
    "\n",
    "with open(\"data/test_ViQuAD.json\") as f:\n",
    "    test_data = json.load(f)['data']\n"
   ]
  },
  {
   "cell_type": "code",
   "execution_count": 50,
   "metadata": {},
   "outputs": [],
   "source": [
    "import difflib\n",
    "from pyvi import ViTokenizer\n",
    "def get_overlap(s1, s2):\n",
    "    s = difflib.SequenceMatcher(None, s1, s2)\n",
    "    pos_a, pos_b, size = s.find_longest_match(0, len(s1), 0, len(s2))\n",
    "    return s1[pos_a:pos_a+size]\n",
    "def f1_score(gt_answer, pred_answer):\n",
    "    tokenized_gt_answer = ViTokenizer.tokenize(gt_answer).replace(\"_\", ' ')\n",
    "    overlap_answer = get_overlap(tokenized_gt_answer, pred_answer)\n",
    "    shared_tokens = overlap_answer.split()\n",
    "    pred_tokens = pred_answer.split()\n",
    "    if len(pred_tokens) == 0:\n",
    "        return 0\n",
    "    gt_tokens = tokenized_gt_answer.split()\n",
    "\n",
    "    precision_score = len(shared_tokens)/len(pred_tokens)\n",
    "    recall_score = len(shared_tokens)/len(gt_tokens)\n",
    "    if precision_score + recall_score == 0:\n",
    "        return 0\n",
    "    else:\n",
    "        return 2*precision_score*recall_score/(precision_score+recall_score)\n",
    "\n"
   ]
  },
  {
   "cell_type": "code",
   "execution_count": 94,
   "metadata": {},
   "outputs": [
    {
     "data": {
      "text/plain": [
       "0.4827586206896552"
      ]
     },
     "execution_count": 94,
     "metadata": {},
     "output_type": "execute_result"
    }
   ],
   "source": [
    "f1_score('được chia thành các mảng kiến tạo, chúng di chuyển từ từ trên bề mặt Trái Đất trong hàng triệu năm',pred_answer)"
   ]
  },
  {
   "cell_type": "code",
   "execution_count": 89,
   "metadata": {},
   "outputs": [
    {
     "data": {
      "text/plain": [
       "0.006802721088435374"
      ]
     },
     "execution_count": 89,
     "metadata": {},
     "output_type": "execute_result"
    }
   ],
   "source": [
    "f1_score('lưu đày ông ta',pred_answer)"
   ]
  },
  {
   "cell_type": "code",
   "execution_count": 43,
   "metadata": {},
   "outputs": [],
   "source": [
    "candidate_passages = retriever.query(question)"
   ]
  },
  {
   "cell_type": "code",
   "execution_count": 88,
   "metadata": {},
   "outputs": [],
   "source": [
    "pred_answer = reader.predict(question,candidate_passages[2]['text'])[0][0]"
   ]
  },
  {
   "cell_type": "code",
   "execution_count": null,
   "metadata": {},
   "outputs": [],
   "source": []
  },
  {
   "cell_type": "code",
   "execution_count": 320,
   "metadata": {},
   "outputs": [],
   "source": [
    "import json\n",
    "with open('data/test_ViQuAD.json') as f:\n",
    "    test_data = json.load(f)"
   ]
  },
  {
   "cell_type": "code",
   "execution_count": 336,
   "metadata": {},
   "outputs": [
    {
     "name": "stdout",
     "output_type": "stream",
     "text": [
      "GOTCHA\n"
     ]
    }
   ],
   "source": [
    "\n",
    "for article in test_data['data']:\n",
    "    for paragraph in article['paragraphs']:\n",
    "        for qa in paragraph['qas']:\n",
    "            if 'Vùng thượng du Trường Giang' in qa['question']:\n",
    "                print(\"GOTCHA\")\n",
    "                res = qa\n",
    "                context = paragraph['context']\n",
    "                break\n",
    "                "
   ]
  },
  {
   "cell_type": "code",
   "execution_count": 337,
   "metadata": {},
   "outputs": [
    {
     "name": "stdout",
     "output_type": "stream",
     "text": [
      "SPOS PRED 0\n"
     ]
    }
   ],
   "source": [
    "pred_answer = qa_system.predict(res['question'])\n",
    "max_f1_score = 0\n",
    "max_em_score = 0\n",
    "for answer in res['answers']:\n",
    "    f1 = f1_score(answer['text'], pred_answer)\n",
    "    if f1 > max_f1_score:\n",
    "        max_f1_score = f1\n",
    "    em = em_score(answer['text'], pred_answer)\n",
    "    if em > max_em_score:\n",
    "        max_em_score = em\n"
   ]
  },
  {
   "cell_type": "code",
   "execution_count": 334,
   "metadata": {},
   "outputs": [
    {
     "data": {
      "text/plain": [
       "'vận chuyển , cung cấp các loại khí hữu dụng , đốt cháy các thiên thạch nhỏ trước khi chúng va chạm với mặt đất và điều hòa nhiệt độ'"
      ]
     },
     "execution_count": 334,
     "metadata": {},
     "output_type": "execute_result"
    }
   ],
   "source": [
    "ViTokenizer.tokenize(answer['text']).replace('_',' ')"
   ]
  },
  {
   "cell_type": "code",
   "execution_count": 341,
   "metadata": {},
   "outputs": [
    {
     "name": "stdout",
     "output_type": "stream",
     "text": [
      "SPOS PRED 0\n"
     ]
    },
    {
     "data": {
      "text/plain": [
       "''"
      ]
     },
     "execution_count": 341,
     "metadata": {},
     "output_type": "execute_result"
    }
   ],
   "source": [
    "qa_system.predict('Vùng thượng du Trường Giang, Quan Trung có vai trò địa thế như thế nào đối với Trung Hoa?')"
   ]
  },
  {
   "cell_type": "code",
   "execution_count": 331,
   "metadata": {},
   "outputs": [
    {
     "data": {
      "text/plain": [
       "'vận chuyển , cung cấp các loại khí hữu dụng , đốt cháy các thiên thạch nhỏ trước khi chúng va chạm với mặt đất và điều hoà nhiệt độ'"
      ]
     },
     "execution_count": 331,
     "metadata": {},
     "output_type": "execute_result"
    }
   ],
   "source": [
    "pred_answer"
   ]
  },
  {
   "cell_type": "code",
   "execution_count": 327,
   "metadata": {},
   "outputs": [
    {
     "data": {
      "text/plain": [
       "'vận chuyển , cung cấp các loại khí hữu dụng , đốt cháy các thiên thạch nhỏ trước khi chúng va chạm với mặt đất và điều hoà nhiệt độ'"
      ]
     },
     "execution_count": 327,
     "metadata": {},
     "output_type": "execute_result"
    }
   ],
   "source": [
    "pred_answer"
   ]
  },
  {
   "cell_type": "code",
   "execution_count": 328,
   "metadata": {},
   "outputs": [
    {
     "data": {
      "text/plain": [
       "0.9333333333333333"
      ]
     },
     "execution_count": 328,
     "metadata": {},
     "output_type": "execute_result"
    }
   ],
   "source": [
    "max_f1_score"
   ]
  },
  {
   "cell_type": "code",
   "execution_count": 116,
   "metadata": {},
   "outputs": [
    {
     "data": {
      "text/plain": [
       "'Vài dự án bách khoa toàn thư đã và đang hoạt động. Vài dự án có quy định cộng tác và sở hữu bài viết theo kiểu truyền thống, ví dụ như Bách khoa toàn thư Triết học Stanford bởi những nhà chuyên môn hoặc dự án Nupedia đã đóng cửa. Những website thoải mái hơn như là h2g2 và Everything2 làm việc dạy chỉ tổng quát, những bài viết ở đấy được viết và quản lý bởi người riêng. Những dự án như là Wikipedia, Susning.nu và Enciclopedia Libre là wiki, trong đó các bài viết được phát triển bởi nhiều tác giả, và không có quá trình kiểm duyệt bài viết chính thức. Trong những bách khoa toàn thư wiki đó, Wikipedia được trở thành bách khoa lớn nhất tính theo số bài viết và số chữ. Khác với nhiều bách khoa toàn thư, nó cho phép sử dụng nội dung dưới Giấy phép Văn bản Tự do GNU.'"
      ]
     },
     "execution_count": 116,
     "metadata": {},
     "output_type": "execute_result"
    }
   ],
   "source": [
    "context"
   ]
  },
  {
   "cell_type": "code",
   "execution_count": 8,
   "metadata": {},
   "outputs": [
    {
     "name": "stderr",
     "output_type": "stream",
     "text": [
      "1it [00:00, 212.15it/s]\n"
     ]
    },
    {
     "data": {
      "text/plain": [
       "[('nhờ Trung_Quốc chuyển các bức_điện về nước ,', 64, 71)]"
      ]
     },
     "execution_count": 8,
     "metadata": {},
     "output_type": "execute_result"
    }
   ],
   "source": [
    "context =test_data['data'][0]['paragraphs'][3]['context']\n",
    "question =  'Sai lầm mà cố thủ tướng Phạm Văn Đồng mắc phải khi đàm phán hiệp định Geneva là gì?'\n",
    "reader_predictor.predict(question, context)"
   ]
  },
  {
   "cell_type": "code",
   "execution_count": 32,
   "metadata": {},
   "outputs": [
    {
     "name": "stderr",
     "output_type": "stream",
     "text": [
      "1it [00:00, 672.06it/s]\n"
     ]
    },
    {
     "data": {
      "text/plain": [
       "[('nội_dung liên_lạc giữa đoàn đàm_phán và Trung_ương , Trung_Quốc đều biết trước và tìm cách ngăn_chặn .',\n",
       "  99,\n",
       "  115)]"
      ]
     },
     "execution_count": 32,
     "metadata": {},
     "output_type": "execute_result"
    }
   ],
   "source": []
  },
  {
   "cell_type": "code",
   "execution_count": null,
   "metadata": {},
   "outputs": [],
   "source": []
  }
 ],
 "metadata": {
  "interpreter": {
   "hash": "1f0cd17c6fec694e464f77e135f2de1532ecd08f538120620b8d919555fed4f6"
  },
  "kernelspec": {
   "display_name": "Python 3.9.5 64-bit ('venv': venv)",
   "language": "python",
   "name": "python3"
  },
  "language_info": {
   "codemirror_mode": {
    "name": "ipython",
    "version": 3
   },
   "file_extension": ".py",
   "mimetype": "text/x-python",
   "name": "python",
   "nbconvert_exporter": "python",
   "pygments_lexer": "ipython3",
   "version": "3.9.5"
  },
  "orig_nbformat": 4
 },
 "nbformat": 4,
 "nbformat_minor": 2
}
